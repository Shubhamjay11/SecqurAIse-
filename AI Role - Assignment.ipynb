{
 "cells": [
  {
   "cell_type": "code",
   "execution_count": 1,
   "id": "a843f36c",
   "metadata": {},
   "outputs": [],
   "source": [
    "import cv2\n",
    "import numpy as np\n"
   ]
  },
  {
   "cell_type": "code",
   "execution_count": 2,
   "id": "298abba9",
   "metadata": {},
   "outputs": [],
   "source": [
    "cap = cv2.VideoCapture(r\"C:\\Users\\spjay\\Downloads\\AI Assignment video.mp4\")\n",
    "while(True):\n",
    "    ret, frame = cap.read()\n",
    "    if ret == False:\n",
    "        break\n",
    "    cv2.imshow('frame', frame)\n",
    "    if cv2.waitKey(1) & 0xFF == ord('q'):\n",
    "        break\n",
    "\n",
    "cap.release()\n",
    "cv2.destroyAllWindows()\n"
   ]
  },
  {
   "cell_type": "code",
   "execution_count": 3,
   "id": "40dbf102",
   "metadata": {},
   "outputs": [
    {
     "ename": "error",
     "evalue": "OpenCV(4.6.0) D:\\a\\opencv-python\\opencv-python\\opencv\\modules\\imgproc\\src\\color.cpp:182: error: (-215:Assertion failed) !_src.empty() in function 'cv::cvtColor'\n",
     "output_type": "error",
     "traceback": [
      "\u001b[1;31m---------------------------------------------------------------------------\u001b[0m",
      "\u001b[1;31merror\u001b[0m                                     Traceback (most recent call last)",
      "\u001b[1;32m~\\AppData\\Local\\Temp/ipykernel_19080/1804681521.py\u001b[0m in \u001b[0;36m<module>\u001b[1;34m\u001b[0m\n\u001b[1;32m----> 1\u001b[1;33m \u001b[0mhsv\u001b[0m \u001b[1;33m=\u001b[0m \u001b[0mcv2\u001b[0m\u001b[1;33m.\u001b[0m\u001b[0mcvtColor\u001b[0m\u001b[1;33m(\u001b[0m\u001b[0mframe\u001b[0m\u001b[1;33m,\u001b[0m \u001b[0mcv2\u001b[0m\u001b[1;33m.\u001b[0m\u001b[0mCOLOR_BGR2HSV\u001b[0m\u001b[1;33m)\u001b[0m\u001b[1;33m\u001b[0m\u001b[1;33m\u001b[0m\u001b[0m\n\u001b[0m",
      "\u001b[1;31merror\u001b[0m: OpenCV(4.6.0) D:\\a\\opencv-python\\opencv-python\\opencv\\modules\\imgproc\\src\\color.cpp:182: error: (-215:Assertion failed) !_src.empty() in function 'cv::cvtColor'\n"
     ]
    }
   ],
   "source": [
    "hsv = cv2.cvtColor(frame, cv2.COLOR_BGR2HSV)\n"
   ]
  },
  {
   "cell_type": "code",
   "execution_count": 5,
   "id": "1f8e03a0",
   "metadata": {},
   "outputs": [
    {
     "ename": "NameError",
     "evalue": "name 'hsv' is not defined",
     "output_type": "error",
     "traceback": [
      "\u001b[1;31m---------------------------------------------------------------------------\u001b[0m",
      "\u001b[1;31mNameError\u001b[0m                                 Traceback (most recent call last)",
      "\u001b[1;32m~\\AppData\\Local\\Temp/ipykernel_16832/9074980.py\u001b[0m in \u001b[0;36m<module>\u001b[1;34m\u001b[0m\n\u001b[0;32m      1\u001b[0m \u001b[0mlower_color\u001b[0m \u001b[1;33m=\u001b[0m \u001b[0mnp\u001b[0m\u001b[1;33m.\u001b[0m\u001b[0marray\u001b[0m\u001b[1;33m(\u001b[0m\u001b[1;33m[\u001b[0m\u001b[1;36m0\u001b[0m\u001b[1;33m,\u001b[0m\u001b[1;36m0\u001b[0m\u001b[1;33m,\u001b[0m\u001b[1;36m0\u001b[0m\u001b[1;33m]\u001b[0m\u001b[1;33m)\u001b[0m\u001b[1;33m\u001b[0m\u001b[1;33m\u001b[0m\u001b[0m\n\u001b[0;32m      2\u001b[0m \u001b[0mupper_color\u001b[0m \u001b[1;33m=\u001b[0m \u001b[0mnp\u001b[0m\u001b[1;33m.\u001b[0m\u001b[0marray\u001b[0m\u001b[1;33m(\u001b[0m\u001b[1;33m[\u001b[0m\u001b[1;36m180\u001b[0m\u001b[1;33m,\u001b[0m\u001b[1;36m255\u001b[0m\u001b[1;33m,\u001b[0m\u001b[1;36m255\u001b[0m\u001b[1;33m]\u001b[0m\u001b[1;33m)\u001b[0m\u001b[1;33m\u001b[0m\u001b[1;33m\u001b[0m\u001b[0m\n\u001b[1;32m----> 3\u001b[1;33m \u001b[0mmask\u001b[0m \u001b[1;33m=\u001b[0m \u001b[0mcv2\u001b[0m\u001b[1;33m.\u001b[0m\u001b[0minRange\u001b[0m\u001b[1;33m(\u001b[0m\u001b[0mhsv\u001b[0m\u001b[1;33m,\u001b[0m \u001b[0mlower_color\u001b[0m\u001b[1;33m,\u001b[0m \u001b[0mupper_color\u001b[0m\u001b[1;33m)\u001b[0m\u001b[1;33m\u001b[0m\u001b[1;33m\u001b[0m\u001b[0m\n\u001b[0m",
      "\u001b[1;31mNameError\u001b[0m: name 'hsv' is not defined"
     ]
    }
   ],
   "source": [
    "lower_color = np.array([0,0,0])\n",
    "upper_color = np.array([180,255,255])\n",
    "mask = cv2.inRange(hsv, lower_color, upper_color)\n"
   ]
  },
  {
   "cell_type": "code",
   "execution_count": null,
   "id": "20b1356f",
   "metadata": {},
   "outputs": [],
   "source": [
    "contours, _ = cv2.findContours(mask, cv2.RETR_TREE, cv2.CHAIN_APPROX_SIMPLE)\n"
   ]
  },
  {
   "cell_type": "code",
   "execution_count": null,
   "id": "071a7d8e",
   "metadata": {},
   "outputs": [],
   "source": [
    "kf = cv2.KalmanFilter(4,2)\n"
   ]
  },
  {
   "cell_type": "code",
   "execution_count": null,
   "id": "b183bb98",
   "metadata": {},
   "outputs": [],
   "source": [
    "for cnt in contours:\n",
    "    kf.predict()\n",
    "    kf.correct(cnt)\n"
   ]
  },
  {
   "cell_type": "code",
   "execution_count": 7,
   "id": "294694a0",
   "metadata": {},
   "outputs": [
    {
     "ename": "NameError",
     "evalue": "name 'contours' is not defined",
     "output_type": "error",
     "traceback": [
      "\u001b[1;31m---------------------------------------------------------------------------\u001b[0m",
      "\u001b[1;31mNameError\u001b[0m                                 Traceback (most recent call last)",
      "\u001b[1;32m~\\AppData\\Local\\Temp/ipykernel_16832/1887643382.py\u001b[0m in \u001b[0;36m<module>\u001b[1;34m\u001b[0m\n\u001b[1;32m----> 1\u001b[1;33m \u001b[1;32mfor\u001b[0m \u001b[0mcnt\u001b[0m \u001b[1;32min\u001b[0m \u001b[0mcontours\u001b[0m\u001b[1;33m:\u001b[0m\u001b[1;33m\u001b[0m\u001b[1;33m\u001b[0m\u001b[0m\n\u001b[0m\u001b[0;32m      2\u001b[0m     \u001b[0mkf\u001b[0m\u001b[1;33m.\u001b[0m\u001b[0mpredict\u001b[0m\u001b[1;33m(\u001b[0m\u001b[1;33m)\u001b[0m\u001b[1;33m\u001b[0m\u001b[1;33m\u001b[0m\u001b[0m\n\u001b[0;32m      3\u001b[0m     \u001b[0mM\u001b[0m \u001b[1;33m=\u001b[0m \u001b[0mcv2\u001b[0m\u001b[1;33m.\u001b[0m\u001b[0mmoments\u001b[0m\u001b[1;33m(\u001b[0m\u001b[0mcnt\u001b[0m\u001b[1;33m)\u001b[0m\u001b[1;33m\u001b[0m\u001b[1;33m\u001b[0m\u001b[0m\n\u001b[0;32m      4\u001b[0m     \u001b[0mcx\u001b[0m \u001b[1;33m=\u001b[0m \u001b[0mint\u001b[0m\u001b[1;33m(\u001b[0m\u001b[0mM\u001b[0m\u001b[1;33m[\u001b[0m\u001b[1;34m'm10'\u001b[0m\u001b[1;33m]\u001b[0m\u001b[1;33m/\u001b[0m\u001b[0mM\u001b[0m\u001b[1;33m[\u001b[0m\u001b[1;34m'm00'\u001b[0m\u001b[1;33m]\u001b[0m\u001b[1;33m)\u001b[0m\u001b[1;33m\u001b[0m\u001b[1;33m\u001b[0m\u001b[0m\n\u001b[0;32m      5\u001b[0m     \u001b[0mcy\u001b[0m \u001b[1;33m=\u001b[0m \u001b[0mint\u001b[0m\u001b[1;33m(\u001b[0m\u001b[0mM\u001b[0m\u001b[1;33m[\u001b[0m\u001b[1;34m'm01'\u001b[0m\u001b[1;33m]\u001b[0m\u001b[1;33m/\u001b[0m\u001b[0mM\u001b[0m\u001b[1;33m[\u001b[0m\u001b[1;34m'm00'\u001b[0m\u001b[1;33m]\u001b[0m\u001b[1;33m)\u001b[0m\u001b[1;33m\u001b[0m\u001b[1;33m\u001b[0m\u001b[0m\n",
      "\u001b[1;31mNameError\u001b[0m: name 'contours' is not defined"
     ]
    }
   ],
   "source": [
    "for cnt in contours:\n",
    "    kf.predict()\n",
    "    M = cv2.moments(cnt)\n",
    "    cx = int(M['m10']/M['m00'])\n",
    "    cy = int(M['m01']/M['m00'])\n",
    "    measurement = np.array([[np.float32(cx)],[np.float32(cy)]])\n",
    "    kf.correct(measurement)\n"
   ]
  },
  {
   "cell_type": "code",
   "execution_count": null,
   "id": "5e0245b6",
   "metadata": {},
   "outputs": [],
   "source": [
    "quadrants = [[0,0,0,0] for i in range(4)] # 4 quadrants with [x, y, color, last_time_seen]\n",
    "quadrant_colors = {1: (255,0,0), 2:(0,255,0), 3:(0,0,255), 4:(255,255,0)} # dictionary of quadrant colors\n"
   ]
  },
  {
   "cell_type": "code",
   "execution_count": null,
   "id": "14ed2cd1",
   "metadata": {},
   "outputs": [],
   "source": [
    "    if cx < frame.shape[1]/2 and cy < frame.shape[0]/2:\n",
    "        quadrant = 1\n",
    "    elif cx >= frame.shape[1]/2 and cy < frame.shape[0]/2:\n",
    "        quadrant = 2\n",
    "    elif cx < frame.shape[1]/2 and cy >= frame.shape[0]/2:\n",
    "        quadrant = 3\n",
    "    else:\n",
    "        quadrant = 4\n"
   ]
  },
  {
   "cell_type": "code",
   "execution_count": null,
   "id": "14b879f4",
   "metadata": {},
   "outputs": [],
   "source": [
    "    current_time = cap.get(cv2.CAP_PROP_POS_MSEC) / 1000.0\n",
    "    if quadrants[quadrant-1][0] == 0: # ball has entered the quadrant\n",
    "        quadrants[quadrant-1] = [cx, cy, quadrant_colors[quadrant], current_time]\n",
    "        print(f\"{current_time}, {quadrant}, {quadrant_colors[quadrant]}, Entry\")\n",
    "    elif quadrants[quadrant-1][0] != cx or quadrants[quadrant-1][1] != cy: # ball has exited the quadrant\n",
    "        print(f\"{current_time}, {quadrant}, {quadrant_colors[quadrant]}, Exit\")\n",
    "        quadrants[quadrant-1] = [0, 0, (0, 0, 0), 0]\n"
   ]
  },
  {
   "cell_type": "code",
   "execution_count": null,
   "id": "03332472",
   "metadata": {},
   "outputs": [],
   "source": [
    "    if quadrants[quadrant-1][0] != 0:\n",
    "        cv2.putText(frame, f\"{quadrant}, {quadrant_colors[quadrant]}, Entry\", (10, 30),\n",
    "                    cv2.FONT_HERSHEY_SIMPLEX, 0.6, quadrant_colors[quadrant], 2)\n",
    "    cv2.imshow(\"frame\", frame)\n"
   ]
  },
  {
   "cell_type": "code",
   "execution_count": null,
   "id": "4e8f4803",
   "metadata": {},
   "outputs": [],
   "source": [
    "# Define the codec and create VideoWriter object\n",
    "fourcc = cv2.VideoWriter_fourcc(*'XVID')\n",
    "out = cv2.VideoWriter('output.avi',fourcc, 20.0, (640,480))\n"
   ]
  },
  {
   "cell_type": "code",
   "execution_count": null,
   "id": "386496eb",
   "metadata": {},
   "outputs": [],
   "source": [
    "import csv\n",
    "\n",
    "# open a new file with the name \"events.csv\"\n",
    "with open('events.csv', 'w', newline='') as file:\n",
    "    writer = csv.writer(file)\n",
    "    # write the header row\n",
    "    writer.writerow([\"Time\", \"Quadrant Number\", \"Ball Colour\", \"Event Type\"])\n",
    "    # write the event data to the file\n",
    "    for quadrant in quadrants:\n",
    "        if quadrant[2] != (0, 0, 0):\n",
    "            writer.writerow([quadrant[3], quadrant[2], \"Entry\"])\n"
   ]
  },
  {
   "cell_type": "code",
   "execution_count": null,
   "id": "1f1e1680",
   "metadata": {},
   "outputs": [],
   "source": [
    "import csv\n",
    "\n",
    "# open a new file with the name \"events.csv\"\n",
    "with open('events1.csv', 'w', newline='') as file:\n",
    "    writer = csv.writer(file)\n",
    "    # write the header row\n",
    "    writer.writerow([\"Time\", \"Quadrant Number\", \"Ball Colour\", \"Event Type\"])\n",
    "    # write the event data to the file\n",
    "    for i in range(4):\n",
    "        if quadrants[i][0] != 0:\n",
    "            writer.writerow([quadrants[i][3], i+1, quadrants[i][2], \"Exit\"])\n"
   ]
  },
  {
   "cell_type": "code",
   "execution_count": null,
   "id": "968892d2",
   "metadata": {},
   "outputs": [],
   "source": [
    "with open('events3.csv', 'w', newline='') as file:\n",
    "    writer = csv.writer(file)\n",
    "    # write the header row\n",
    "    writer.writerow([\"Time\", \"Quadrant Number\", \"Ball Colour\", \"Event Type\"])\n",
    "    # write the event data to the file\n",
    "    for i in range(4):\n",
    "        if quadrants[i][0] != 0:\n",
    "            writer.writerow([quadrants[i][3], i+1, quadrants[i][2], \"Exit\"])\n",
    "        else:\n",
    "            writer.writerow([quadrants[i][3], i+1, quadrants[i][2], \"Entry\"])\n"
   ]
  },
  {
   "cell_type": "code",
   "execution_count": null,
   "id": "290fd99d",
   "metadata": {},
   "outputs": [],
   "source": [
    "hi"
   ]
  },
  {
   "cell_type": "code",
   "execution_count": null,
   "id": "ed4a4777",
   "metadata": {},
   "outputs": [],
   "source": [
    "    out.write(frame)\n",
    "    if cv2.waitKey(1) & 0xFF == ord('q'):\n",
    "        break\n",
    "\n",
    "cap.release()\n",
    "out.release()\n",
    "cv2.destroyAllWindows()\n"
   ]
  },
  {
   "cell_type": "code",
   "execution_count": null,
   "id": "98ce57bb",
   "metadata": {},
   "outputs": [],
   "source": [
    "    for i in range(len(contours)):\n",
    "        (x,y),radius = cv2.minEnclosingCircle(contours[i])\n",
    "        center = (int(x),int(y))\n",
    "        radius = int(radius)\n",
    "        if x < width/2 and y < height/2:\n",
    "            quadrant = 1\n",
    "        elif x > width/2 and y < height/2:\n",
    "            quadrant = 2\n",
    "        elif x < width/2 and y > height/2:\n",
    "            quadrant\n"
   ]
  },
  {
   "cell_type": "code",
   "execution_count": null,
   "id": "85c4717d",
   "metadata": {},
   "outputs": [],
   "source": []
  },
  {
   "cell_type": "code",
   "execution_count": null,
   "id": "e614e149",
   "metadata": {},
   "outputs": [],
   "source": []
  },
  {
   "cell_type": "code",
   "execution_count": null,
   "id": "e48ac339",
   "metadata": {},
   "outputs": [],
   "source": [
    "cap = cv2.VideoCapture(r\"C:\\Users\\spjay\\Downloads\\AI Assignment video.mp4\")\n",
    "while True:\n",
    "    ret, frame = cap.read()\n",
    "    if not ret:\n",
    "        print(\"Can't receive frame (stream end?). Exiting ...\")\n",
    "        break\n",
    "    if frame.shape[:2] != (0, 0):\n",
    "        hsv = cv2.cvtColor(frame, cv2.COLOR_BGR2HSV)\n",
    "        if hsv.shape[:2] != (0, 0):\n",
    "            lower_color = np.array([0,0,0])\n",
    "            upper_color = np.array([180,255,255])\n",
    "            mask = cv2.inRange(hsv, lower_color, upper_color)\n",
    "            contours, _ = cv2.findContours(mask, cv2.RETR_TREE, cv2.CHAIN_APPROX_SIMPLE)\n",
    "            kf = cv2.KalmanFilter(4,2)\n",
    "            for cnt in contours:\n",
    "                kf.predict()\n",
    "                kf.correct(cnt)\n",
    "        cv2.imshow('frame', frame)\n",
    "    if cv2.waitKey(1) & 0xFF == ord('q'):\n",
    "        break\n",
    "\n",
    "cap.release()\n",
    "cv2.destroyAllWindows()\n"
   ]
  },
  {
   "cell_type": "code",
   "execution_count": null,
   "id": "d424d789",
   "metadata": {},
   "outputs": [],
   "source": [
    "    # convert frame from BGR to HSV\n",
    "    hsv = cv2.cvtColor(frame, cv2.COLOR_BGR2HSV)\n",
    "    # define the range of colors for the balls\n",
    "    lower_color = np.array([0,0,0])\n",
    "    upper_color = np.array([180,255,255])\n",
    "    # threshold the frame to get only the colors in the defined range\n",
    "    mask = cv2.inRange(hsv, lower_color, upper_color)\n",
    "    # find contours of the detected colors\n",
    "    contours, _ = cv2.findContours(mask, cv2.RETR_TREE, cv2.CHAIN_APPROX_SIMPLE)\n",
    "    # initialize Kalman filter\n",
    "    kf = cv2.KalmanFilter(4,2)\n",
    "    for cnt in contours:\n",
    "        # track the movement of the balls using Kalman filter\n",
    "        kf.predict()\n",
    "        kf.correct(cnt)\n"
   ]
  },
  {
   "cell_type": "code",
   "execution_count": null,
   "id": "24cc1eb2",
   "metadata": {},
   "outputs": [],
   "source": [
    "cap = cv2.VideoCapture(rcap = cv2.VideoCapture(r\"C:\\Users\\spjay\\Downloads\\AI Assignment video.mp4\")\n",
    "if not cap.isOpened():\n",
    "    print(\"Error opening video file\")\n",
    "    exit()\n",
    "\n",
    "while True:\n",
    "    ret, frame = cap.read()\n",
    "    if not ret:\n",
    "        print(\"Can't receive frame (stream end?). Exiting ...\")\n",
    "        break\n",
    "    if frame.shape[:2] != (0, 0):\n",
    "        cv2.imshow('frame', frame)\n",
    "    if cv2.waitKey(1) & 0xFF == ord('q'):\n",
    "        break\n",
    "\n",
    "cap.release()\n",
    "cv2.destroyAllWindows()\n",
    ")\n",
    "if not cap.isOpened():\n",
    "    print(\"Error opening video file\")\n",
    "    exit()\n",
    "\n",
    "while True:\n",
    "    ret, frame = cap.read()\n",
    "    if not ret:\n",
    "        print(\"Can't receive frame (stream end?). Exiting ...\")\n",
    "        break\n",
    "    if frame.shape[:2] != (0, 0):\n",
    "        cv2.imshow('frame', frame)\n",
    "    if cv2.waitKey(1) & 0xFF == ord('q'):\n",
    "        break\n",
    "\n",
    "cap.release()\n",
    "cv2.destroyAllWindows()\n"
   ]
  },
  {
   "cell_type": "code",
   "execution_count": null,
   "id": "0b3bdb95",
   "metadata": {},
   "outputs": [],
   "source": [
    "cap = cv2.VideoCapture(r\"C:\\Users\\spjay\\Downloads\\AI Assignment video.mp4\")\n",
    "while(cap.isOpened()):\n",
    "    ret, frame = cap.read()\n",
    "    # do processing on the frame here\n",
    "    cv2.imshow('frame', frame)\n",
    "    if cv2.waitKey(1) & 0xFF == ord('q'):\n",
    "        break\n",
    "cap.release()\n",
    "cv2.destroyAllWindows()\n"
   ]
  }
 ],
 "metadata": {
  "kernelspec": {
   "display_name": "Python 3 (ipykernel)",
   "language": "python",
   "name": "python3"
  },
  "language_info": {
   "codemirror_mode": {
    "name": "ipython",
    "version": 3
   },
   "file_extension": ".py",
   "mimetype": "text/x-python",
   "name": "python",
   "nbconvert_exporter": "python",
   "pygments_lexer": "ipython3",
   "version": "3.8.5"
  },
  "varInspector": {
   "cols": {
    "lenName": 16,
    "lenType": 16,
    "lenVar": 40
   },
   "kernels_config": {
    "python": {
     "delete_cmd_postfix": "",
     "delete_cmd_prefix": "del ",
     "library": "var_list.py",
     "varRefreshCmd": "print(var_dic_list())"
    },
    "r": {
     "delete_cmd_postfix": ") ",
     "delete_cmd_prefix": "rm(",
     "library": "var_list.r",
     "varRefreshCmd": "cat(var_dic_list()) "
    }
   },
   "types_to_exclude": [
    "module",
    "function",
    "builtin_function_or_method",
    "instance",
    "_Feature"
   ],
   "window_display": false
  }
 },
 "nbformat": 4,
 "nbformat_minor": 5
}
